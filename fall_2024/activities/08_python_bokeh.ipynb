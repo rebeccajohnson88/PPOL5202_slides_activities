{
 "cells": [
  {
   "cell_type": "markdown",
   "id": "877f798b",
   "metadata": {
    "slideshow": {
     "slide_type": "-"
    }
   },
   "source": [
    "# Activity: Bokeh  \n"
   ]
  },
  {
   "cell_type": "code",
   "execution_count": null,
   "id": "5fe0bd38",
   "metadata": {},
   "outputs": [],
   "source": [
    "import pandas as pd\n",
    "import numpy as np\n",
    "import bokeh.io\n",
    "import bokeh.plotting\n",
    "import bokeh.models\n",
    "from bokeh.transform import factor_cmap, factor_mark\n",
    "from bokeh.models import (BooleanFilter, CDSView, ColumnDataSource, \n",
    "    Range1d, DataTable, TableColumn, FactorRange, BasicTickFormatter)\n",
    "from bokeh.palettes import all_palettes\n",
    "from bokeh.layouts import row, column\n",
    "\n",
    "bokeh.io.output_notebook()\n"
   ]
  },
  {
   "cell_type": "markdown",
   "id": "31206a51",
   "metadata": {},
   "source": [
    "# Activity 1: Scatterplot with hoverable points\n"
   ]
  },
  {
   "cell_type": "markdown",
   "id": "b35eb957",
   "metadata": {},
   "source": [
    "- Load the `college-scorecard.csv` data \n",
    "- Subset to colleges with\n",
    "- Create a scatterplot with the:\n",
    "    - x axis: admissions rate (`ADM_RATE`)\n",
    "    - y axis: median earnings 10 years after college entry (`MD_EARN_WNE_P10`)\n",
    "- Include a hoverable tooltip  with each institution's name and the above two values \n",
    "    \n"
   ]
  },
  {
   "cell_type": "code",
   "execution_count": null,
   "id": "333bb4e0",
   "metadata": {},
   "outputs": [],
   "source": []
  },
  {
   "cell_type": "code",
   "execution_count": null,
   "id": "fe555dd3",
   "metadata": {},
   "outputs": [],
   "source": []
  },
  {
   "cell_type": "markdown",
   "id": "eaa46462",
   "metadata": {},
   "source": [
    "# Activity 2: shade by group + create an interactive legend\n",
    "\n",
    "- Create a categorical variable (loan_category) that uses the PCTFLOAN (percent of students receiving federal student loans) variable and codes it into the following buckets:\n",
    "        - No federal loans: 0% receiving\n",
    "        - Low federal loans: >0% & <30%\n",
    "        - Middle federal loans: >=30% & <60%\n",
    "        - High federal loans: >60%\n",
    "- Recreate the above scatterplot but shade for those 4 categories + create an interactive legend that allows you to select which categories to display on the plot\n",
    "\n"
   ]
  },
  {
   "cell_type": "code",
   "execution_count": null,
   "id": "2e99bd92",
   "metadata": {},
   "outputs": [],
   "source": []
  },
  {
   "cell_type": "code",
   "execution_count": null,
   "id": "f2c327e4",
   "metadata": {},
   "outputs": [],
   "source": []
  },
  {
   "cell_type": "code",
   "execution_count": null,
   "id": "f8829718",
   "metadata": {},
   "outputs": [],
   "source": []
  },
  {
   "cell_type": "markdown",
   "id": "f501a8b1",
   "metadata": {},
   "source": [
    "# Activity 3: linked charts \n",
    "\n",
    "Create side by side scatterplots with the ability to select a region of the points:\n",
    "\n",
    "    - First plot: same as in activity one (x axis is the admissions rate versus y axis is median earnings)\n",
    "    - Second plot: x axis is the student's family's median income (`MD_FAMINC`) and y axis is the median earnings "
   ]
  },
  {
   "cell_type": "code",
   "execution_count": null,
   "id": "4b4648e4",
   "metadata": {},
   "outputs": [],
   "source": []
  }
 ],
 "metadata": {
  "celltoolbar": "Tags",
  "kernelspec": {
   "display_name": "Python 3 (ipykernel)",
   "language": "python",
   "name": "python3"
  },
  "language_info": {
   "codemirror_mode": {
    "name": "ipython",
    "version": 3
   },
   "file_extension": ".py",
   "mimetype": "text/x-python",
   "name": "python",
   "nbconvert_exporter": "python",
   "pygments_lexer": "ipython3",
   "version": "3.9.13"
  }
 },
 "nbformat": 4,
 "nbformat_minor": 5
}
