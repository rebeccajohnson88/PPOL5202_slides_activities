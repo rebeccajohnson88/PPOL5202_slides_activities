{
 "cells": [
  {
   "cell_type": "markdown",
   "id": "877f798b",
   "metadata": {
    "slideshow": {
     "slide_type": "-"
    }
   },
   "source": [
    "# Activity: Bokeh  \n"
   ]
  },
  {
   "cell_type": "code",
   "execution_count": null,
   "id": "5fe0bd38",
   "metadata": {},
   "outputs": [],
   "source": [
    "import pandas as pd\n",
    "import numpy as np\n",
    "import bokeh.io\n",
    "import bokeh.plotting\n",
    "import bokeh.models\n",
    "from bokeh.transform import factor_cmap, factor_mark\n",
    "from bokeh.models import (BooleanFilter, CDSView, ColumnDataSource, \n",
    "    Range1d, DataTable, TableColumn, FactorRange, BasicTickFormatter)\n",
    "from bokeh.palettes import all_palettes\n",
    "from bokeh.layouts import row, column\n",
    "\n",
    "bokeh.io.output_notebook()\n"
   ]
  },
  {
   "cell_type": "markdown",
   "id": "31206a51",
   "metadata": {},
   "source": [
    "# Activity 1: Scatterplot with hoverable points\n"
   ]
  },
  {
   "cell_type": "markdown",
   "id": "b35eb957",
   "metadata": {},
   "source": [
    "- Load the `college-scorecard.csv` data \n",
    "- Subset to colleges with\n",
    "- Create a scatterplot with the:\n",
    "    - x axis: admissions rate (`ADM_RATE`)\n",
    "    - y axis: median earnings 10 years after college entry (`MD_EARN_WNE_P10`)\n",
    "- Include a hoverable tooltip  with each institution's name and the above two values \n",
    "    \n"
   ]
  },
  {
   "cell_type": "code",
   "execution_count": null,
   "id": "a6c090f5",
   "metadata": {},
   "outputs": [],
   "source": [
    "cs = pd.read_csv(\"college-scorecard.csv\", low_memory = False)\n"
   ]
  },
  {
   "cell_type": "code",
   "execution_count": null,
   "id": "333bb4e0",
   "metadata": {},
   "outputs": [],
   "source": [
    "tooltips_map = [\n",
    "    ('Name', '@INSTNM'),\n",
    "    ('Admissions rate', '@ADM_RATE{0.00}'), \n",
    "    ('Median earnings', '@MD_EARN_WNE_P10')\n",
    "]\n",
    "cs_b = bokeh.models.ColumnDataSource(cs)\n",
    "a1 = bokeh.plotting.figure(plot_width = 400, plot_height = 300,\n",
    "                         x_axis_label = 'University admissions rate',\n",
    "                         y_axis_label = \"Median earnings 10 years post-entry\",\n",
    "                         tools = \"hover,pan,zoom_in,box_select\",\n",
    "                         tooltips = tooltips_map)\n",
    "\n",
    "a1.scatter(x = 'ADM_RATE', y = 'MD_EARN_WNE_P10', \n",
    "          source = cs_b)\n",
    "a1.yaxis.formatter = BasicTickFormatter(use_scientific=False)\n",
    "a1.y_range = Range1d(0, 160000)"
   ]
  },
  {
   "cell_type": "code",
   "execution_count": null,
   "id": "fe555dd3",
   "metadata": {},
   "outputs": [],
   "source": [
    "# bokeh.io.show(a1)"
   ]
  },
  {
   "cell_type": "markdown",
   "id": "eaa46462",
   "metadata": {},
   "source": [
    "# Activity 2: shade by group + create an interactive legend\n",
    "\n",
    "- Create a categorical variable (loan_category) that uses the PCTFLOAN (percent of students receiving federal student loans) variable and codes it into the following buckets:\n",
    "        - No federal loans: 0% receiving\n",
    "        - Low federal loans: >0% & <30%\n",
    "        - Middle federal loans: >=30% & <60%\n",
    "        - High federal loans: >60%\n",
    "- Recreate the above scatterplot but shade for those 4 categories + create an interactive legend that allows you to select which categories to display on the plot\n",
    "\n"
   ]
  },
  {
   "cell_type": "code",
   "execution_count": null,
   "id": "2e99bd92",
   "metadata": {},
   "outputs": [],
   "source": [
    "conditions = [cs['PCTFLOAN'] == 0,\n",
    "             cs['PCTFLOAN'] < 0.3,\n",
    "             cs['PCTFLOAN'] < 0.6,\n",
    "             cs['PCTFLOAN'] >= 0.6]\n",
    "choices = [\"0% federal loans\", \"Low federal loans\",\n",
    "          \"Middle federal loans\", \"High federal loans\"]\n",
    "\n",
    "cs['loan_category'] = np.select(conditions, choices, default = None)\n"
   ]
  },
  {
   "cell_type": "code",
   "execution_count": null,
   "id": "f2c327e4",
   "metadata": {},
   "outputs": [],
   "source": [
    "p = bokeh.plotting.figure(plot_width = 400, plot_height = 300,\n",
    "                         x_axis_label = 'University admissions rate',\n",
    "                         y_axis_label = \"Median earnings 10 years post-entry\",\n",
    "                         tools = \"hover,pan,zoom_in\",\n",
    "                         tooltips = tooltips_map)\n",
    "for one_category in choices:\n",
    "    df = bokeh.models.ColumnDataSource(cs[cs.loan_category == one_category])\n",
    "    p.scatter(x = 'ADM_RATE', y = 'MD_EARN_WNE_P10', \n",
    "          source = df,\n",
    "          legend_label = one_category,\n",
    "          color = factor_cmap(field_name = 'loan_category', \n",
    "                             palette = bokeh.palettes.Spectral4,\n",
    "                             factors = choices))\n",
    "p.legend.location = \"top_right\"\n",
    "p.legend.click_policy = \"hide\"\n",
    "p.yaxis.formatter = BasicTickFormatter(use_scientific=False)\n",
    "p.y_range = Range1d(0, 160000)"
   ]
  },
  {
   "cell_type": "code",
   "execution_count": null,
   "id": "f8829718",
   "metadata": {},
   "outputs": [],
   "source": [
    "#bokeh.io.show(p)"
   ]
  },
  {
   "attachments": {},
   "cell_type": "markdown",
   "id": "214c01ca",
   "metadata": {},
   "source": [
    "# Activity 3: linked charts \n",
    "\n",
    "Create side by side scatterplots with the ability to select a region of the points:\n",
    "    - First plot: same as in activity one (x axis is the admissions rate versus y axis is median earnings)\n",
    "    - Second plot: x axis is the average SAT score (`SAT_AVG`) and y axis is the median earnings "
   ]
  },
  {
   "cell_type": "code",
   "execution_count": null,
   "id": "e612dc4d",
   "metadata": {},
   "outputs": [],
   "source": [
    "a3 = bokeh.plotting.figure(plot_width = 400, plot_height = 300,\n",
    "                         x_axis_label = 'Average SAT score',\n",
    "                         y_axis_label = \"Median earnings 10 years post-entry\",\n",
    "                         tools = \"hover,pan,zoom_in,box_select\",\n",
    "                         tooltips = tooltips_map)\n",
    "\n",
    "a3.scatter(x = 'SAT_AVG', y = 'MD_EARN_WNE_P10', \n",
    "          source = cs_b)\n",
    "a3.yaxis.formatter = BasicTickFormatter(use_scientific=False)\n",
    "a3.y_range = Range1d(0, 160000)"
   ]
  },
  {
   "cell_type": "code",
   "execution_count": null,
   "id": "ed4d60e8",
   "metadata": {},
   "outputs": [],
   "source": [
    "#bokeh.io.show(row(a1, a3))"
   ]
  }
 ],
 "metadata": {
  "celltoolbar": "Tags",
  "kernelspec": {
   "display_name": "Python 3 (ipykernel)",
   "language": "python",
   "name": "python3"
  },
  "language_info": {
   "codemirror_mode": {
    "name": "ipython",
    "version": 3
   },
   "file_extension": ".py",
   "mimetype": "text/x-python",
   "name": "python",
   "nbconvert_exporter": "python",
   "pygments_lexer": "ipython3",
   "version": "3.9.13"
  }
 },
 "nbformat": 4,
 "nbformat_minor": 5
}
